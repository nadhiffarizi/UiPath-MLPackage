{
 "cells": [
  {
   "cell_type": "code",
   "execution_count": null,
   "id": "incorporate-savage",
   "metadata": {},
   "outputs": [],
   "source": [
    "import pandas as pd\n",
    "import sklearn\n",
    "import sklearn.model_selection\n",
    "import sklearn.linear_model\n",
    "import numpy as np\n",
    "import os\n",
    "import matplotlib.pyplot as plt"
   ]
  },
  {
   "cell_type": "code",
   "execution_count": null,
   "id": "korean-wilson",
   "metadata": {},
   "outputs": [],
   "source": [
    "import pickle\n",
    "import joblib"
   ]
  },
  {
   "cell_type": "markdown",
   "id": "armed-somewhere",
   "metadata": {},
   "source": [
    "Create dataset"
   ]
  },
  {
   "cell_type": "code",
   "execution_count": null,
   "id": "decreased-enemy",
   "metadata": {},
   "outputs": [],
   "source": [
    "dataset = []\n",
    "for i in range(0, 1000):\n",
    "    row_element = []\n",
    "    # assign feature x\n",
    "    row_element.append(i)\n",
    "    \n",
    "    random_number = np.random.rand(1)*1000\n",
    "    if i % 2 == 0:\n",
    "        row_element.append(i*10-random_number[0]+ i**0.2)\n",
    "    elif i % 3 == 0:\n",
    "        row_element.append(i*10+random_number[0]- i**0.3)\n",
    "    elif i % 5 == 0:\n",
    "        row_element.append(i*10-random_number[0]+ i**0.5)\n",
    "    elif i % 7 == 0:\n",
    "        row_element.append(i*10+random_number[0]- i**0.7)\n",
    "    elif i % 11 == 0:\n",
    "        row_element.append(i*10-random_number[0]+ i**1.1)\n",
    "    else:\n",
    "        row_element.append(i*10-2*random_number[0])\n",
    "    dataset.append(row_element)\n",
    "    \n",
    "dataset_array = np.array(dataset)\n",
    "print(dataset_array)\n",
    "    "
   ]
  },
  {
   "cell_type": "markdown",
   "id": "lined-robinson",
   "metadata": {},
   "source": [
    "Plot"
   ]
  },
  {
   "cell_type": "code",
   "execution_count": null,
   "id": "disabled-workstation",
   "metadata": {},
   "outputs": [],
   "source": [
    "plt.scatter(x=dataset_array[:, 0], y=dataset_array[:, 1], s=1, color='#ff7f0e')\n",
    "plt.xlabel(\"Feature 1\")\n",
    "plt.ylabel(\"Feature 2\")\n",
    "plt.title(\"Dummy Dataset\")\n",
    "fig_path = './Dataset/dataset_plot.png'\n",
    "plt.savefig(fig_path)\n",
    "plt.show()"
   ]
  },
  {
   "cell_type": "markdown",
   "id": "iraqi-demand",
   "metadata": {},
   "source": [
    "save data to .csv"
   ]
  },
  {
   "cell_type": "code",
   "execution_count": null,
   "id": "acoustic-frequency",
   "metadata": {},
   "outputs": [],
   "source": [
    "data_path = './Dataset'\n",
    "df = pd.DataFrame({'feature1': dataset_array[:, 0], 'feature2': dataset_array[:, 1]})\n",
    "df.to_csv(os.path.join(data_path, 'dummy_dataset.csv'), index=False, header=True)"
   ]
  },
  {
   "cell_type": "markdown",
   "id": "moral-stranger",
   "metadata": {},
   "source": [
    "Build linear regression Model"
   ]
  },
  {
   "cell_type": "code",
   "execution_count": null,
   "id": "surgical-classification",
   "metadata": {},
   "outputs": [],
   "source": [
    "X = df[['feature1']]\n",
    "y = df[['feature2']]"
   ]
  },
  {
   "cell_type": "code",
   "execution_count": null,
   "id": "detected-subject",
   "metadata": {},
   "outputs": [],
   "source": [
    "X.shape"
   ]
  },
  {
   "cell_type": "code",
   "execution_count": null,
   "id": "laughing-dietary",
   "metadata": {},
   "outputs": [],
   "source": [
    "# split data and train\n",
    "\n",
    "x_train, x_test, y_train, y_test = sklearn.model_selection.train_test_split(X, y, test_size=0.01)\n",
    "\n",
    "linear = sklearn.linear_model.LinearRegression()\n",
    "linear.fit(x_train, y_train)\n",
    "acc = linear.score(x_test, y_test)\n",
    "print(acc) "
   ]
  },
  {
   "cell_type": "markdown",
   "id": "becoming-garden",
   "metadata": {},
   "source": [
    "Save model"
   ]
  },
  {
   "cell_type": "code",
   "execution_count": null,
   "id": "public-habitat",
   "metadata": {},
   "outputs": [],
   "source": [
    "model_path = '.Model'\n",
    "with open(os.path.join('linear_model.pickle'), 'wb') as model_out:\n",
    "    pickle.dump(linear, model_out)"
   ]
  },
  {
   "cell_type": "markdown",
   "id": "shaped-rebate",
   "metadata": {},
   "source": [
    "Open Model"
   ]
  },
  {
   "cell_type": "code",
   "execution_count": null,
   "id": "rolled-spring",
   "metadata": {},
   "outputs": [],
   "source": [
    "with open('linear_model.pickle', 'rb') as model_in:\n",
    "    linear = pickle.load(model_in)\n",
    "    linear.fit(X, y)\n",
    "    acc = linear.score(x_test, y_test)\n",
    "    print(acc)"
   ]
  },
  {
   "cell_type": "markdown",
   "id": "developing-solomon",
   "metadata": {},
   "source": [
    "Create training data and evaluate data set"
   ]
  },
  {
   "cell_type": "code",
   "execution_count": null,
   "id": "greenhouse-northeast",
   "metadata": {},
   "outputs": [],
   "source": [
    "training_path_folder = './Dataset/Training Data'\n",
    "evaluate_path_folder = './Dataset/Evaluate Data'\n",
    "dataset_path = './Dataset/dummy_dataset.csv'"
   ]
  },
  {
   "cell_type": "code",
   "execution_count": null,
   "id": "registered-albany",
   "metadata": {},
   "outputs": [],
   "source": [
    "df = pd.read_csv(dataset_path)"
   ]
  },
  {
   "cell_type": "code",
   "execution_count": null,
   "id": "common-birth",
   "metadata": {},
   "outputs": [],
   "source": [
    "X = np.array(df[['feature1']])\n",
    "y = np.array(df[['feature2']])\n",
    "\n",
    "x_train, x_eval, y_train, y_eval = sklearn.model_selection.train_test_split(X, y, test_size=0.1, shuffle=True)"
   ]
  },
  {
   "cell_type": "code",
   "execution_count": null,
   "id": "transsexual-seattle",
   "metadata": {},
   "outputs": [],
   "source": [
    "df_train = pd.DataFrame({\"feature1\": x_train[:, 0], \"feature2\": y_train[:, 0]})\n",
    "df_eval = pd.DataFrame({\"feature1\": x_eval[:, 0], \"feature2\": y_eval[:, 0]})"
   ]
  },
  {
   "cell_type": "code",
   "execution_count": null,
   "id": "confused-partner",
   "metadata": {},
   "outputs": [],
   "source": [
    "df_train.to_csv(os.path.join(training_path_folder, \"train.csv\"), index=False)\n",
    "df_eval.to_csv(os.path.join(evaluate_path_folder, \"evaluate.csv\"), index=False)"
   ]
  }
 ],
 "metadata": {
  "kernelspec": {
   "display_name": "scikitlearn",
   "language": "python",
   "name": "scikitlearn"
  },
  "language_info": {
   "codemirror_mode": {
    "name": "ipython",
    "version": 3
   },
   "file_extension": ".py",
   "mimetype": "text/x-python",
   "name": "python",
   "nbconvert_exporter": "python",
   "pygments_lexer": "ipython3",
   "version": "3.6.12"
  },
  "varInspector": {
   "cols": {
    "lenName": 16,
    "lenType": 16,
    "lenVar": 40
   },
   "kernels_config": {
    "python": {
     "delete_cmd_postfix": "",
     "delete_cmd_prefix": "del ",
     "library": "var_list.py",
     "varRefreshCmd": "print(var_dic_list())"
    },
    "r": {
     "delete_cmd_postfix": ") ",
     "delete_cmd_prefix": "rm(",
     "library": "var_list.r",
     "varRefreshCmd": "cat(var_dic_list()) "
    }
   },
   "types_to_exclude": [
    "module",
    "function",
    "builtin_function_or_method",
    "instance",
    "_Feature"
   ],
   "window_display": false
  }
 },
 "nbformat": 4,
 "nbformat_minor": 5
}
